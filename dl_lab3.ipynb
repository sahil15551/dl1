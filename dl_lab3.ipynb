{
 "cells": [
  {
   "cell_type": "code",
   "execution_count": 3,
   "id": "4a050b56",
   "metadata": {},
   "outputs": [
    {
     "name": "stdout",
     "output_type": "stream",
     "text": [
      "Prediction: 0\n",
      "Accuracy: 100.0\n"
     ]
    }
   ],
   "source": [
    "import numpy as np\n",
    "\n",
    "class Perceptron:\n",
    "   \n",
    "    def __init__(self, weights=None, bias=0):\n",
    "        self.weights = weights\n",
    "        self.bias = bias\n",
    "\n",
    "    def initialize(self, n_features):\n",
    "        if self.weights is None:\n",
    "            self.weights = np.zeros(n_features)\n",
    "        if self.bias is None:\n",
    "            self.bias = 0\n",
    "\n",
    "    def predict(self, inputs):\n",
    "        activation = np.dot(inputs, self.weights) + self.bias\n",
    "        return 1 if activation > 0 else 0\n",
    "\n",
    "    def train(self, X, y, epochs=100, learning_rate=0.1): \n",
    "        self.initialize(X.shape[1])\n",
    "        \n",
    "        for epoch in range(epochs):\n",
    "            for inputs, label in zip(X, y):\n",
    "                y_pred = self.predict(inputs)\n",
    "                error = label - y_pred\n",
    "                self.weights += learning_rate * error * inputs\n",
    "                self.bias += learning_rate * error\n",
    "\n",
    "X_train = np.array([[0, 0, 1], [0, 1, 1], [1, 0, 1], [1, 1, 1]])\n",
    "y_train = np.array([0, 0, 0, 1])\n",
    "custom_weights = np.array([0.2, 0.4, 0.6])\n",
    "custom_bias = -0.5\n",
    "\n",
    "p = Perceptron(weights=custom_weights, bias=custom_bias)\n",
    "\n",
    "\n",
    "p.train(X_train, y_train, epochs=100, learning_rate=0.1)\n",
    "\n",
    "\n",
    "test_input = np.array([0, 1, 1])\n",
    "print(\"Prediction:\", p.predict(test_input))  \n",
    "\n",
    "\n",
    "X_test = np.array([[0, 0, 1], [0, 1, 1], [1, 0, 1], [1, 1, 1]])\n",
    "y_test = np.array([0, 0, 0, 1])\n",
    "pred = np.array([p.predict(x) for x in X_test])\n",
    "accuracy = np.mean(pred == y_test) * 100\n",
    "print(\"Accuracy:\", accuracy)  \n"
   ]
  },
  {
   "cell_type": "code",
   "execution_count": null,
   "id": "82eeef61-9cef-4b3d-be5e-608642a105c6",
   "metadata": {},
   "outputs": [],
   "source": []
  }
 ],
 "metadata": {
  "kernelspec": {
   "display_name": "Python 3 (ipykernel)",
   "language": "python",
   "name": "python3"
  },
  "language_info": {
   "codemirror_mode": {
    "name": "ipython",
    "version": 3
   },
   "file_extension": ".py",
   "mimetype": "text/x-python",
   "name": "python",
   "nbconvert_exporter": "python",
   "pygments_lexer": "ipython3",
   "version": "3.10.7"
  }
 },
 "nbformat": 4,
 "nbformat_minor": 5
}
